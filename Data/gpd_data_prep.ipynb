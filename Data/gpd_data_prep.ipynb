{
 "cells": [
  {
   "cell_type": "code",
   "execution_count": 1,
   "metadata": {},
   "outputs": [],
   "source": [
    "# importing libraries\n",
    "import os\n",
    "import pandas as pd\n",
    "import geopandas as gpd"
   ]
  },
  {
   "cell_type": "code",
   "execution_count": 2,
   "metadata": {},
   "outputs": [
    {
     "name": "stdout",
     "output_type": "stream",
     "text": [
      "/home/jovyan/work/CUSP_data_dive/Data\n"
     ]
    }
   ],
   "source": [
    "# setting the working directory - you need to change this to your own directory\n",
    "#import os\n",
    "os.chdir('/home/jovyan/work/CUSP_data_dive/Data')\n",
    "print(os.getcwd())"
   ]
  },
  {
   "cell_type": "code",
   "execution_count": 3,
   "metadata": {},
   "outputs": [
    {
     "data": {
      "text/plain": [
       "['bge_code',\n",
       " 'bge_type',\n",
       " 'la_name',\n",
       " 'co_name',\n",
       " 'reg_name',\n",
       " 'country',\n",
       " 'total_pop',\n",
       " 'urban_area',\n",
       " 'urban_pct',\n",
       " 'tc_goal',\n",
       " 'treecanopy',\n",
       " 'tc_gap',\n",
       " 'priority_i',\n",
       " 'inc_rank',\n",
       " 'incnorm',\n",
       " 'inc_dec',\n",
       " 'emp_rank',\n",
       " 'empnorm',\n",
       " 'emp_dec',\n",
       " 'hlth_rank',\n",
       " 'hlthnorm',\n",
       " 'hlth_dec',\n",
       " 'temp_diff',\n",
       " 'tempnorm',\n",
       " 'NO2_avg',\n",
       " 'PM25_avg',\n",
       " 'apb_index',\n",
       " 'dep_ratio',\n",
       " 'depratnorm',\n",
       " 'dep_perc',\n",
       " 'tes',\n",
       " 'la_tes',\n",
       " 'pctmineth',\n",
       " 'pct_child',\n",
       " 'pct_senior',\n",
       " 'la_code',\n",
       " 'co_code',\n",
       " 'peat',\n",
       " 'geometry']"
      ]
     },
     "execution_count": 3,
     "metadata": {},
     "output_type": "execute_result"
    }
   ],
   "source": [
    "['bge_code', 'bge_type', 'la_name', 'co_name', 'reg_name', 'country', 'total_pop', 'urban_area', 'urban_pct', 'tc_goal', \n",
    "'treecanopy', 'tc_gap', 'priority_i', 'inc_rank', 'incnorm', 'inc_dec', 'emp_rank', 'empnorm', 'emp_dec', 'hlth_rank', 'hlthnorm', \n",
    "'hlth_dec', 'temp_diff', 'tempnorm', 'NO2_avg', 'PM25_avg', 'apb_index', 'dep_ratio', 'depratnorm', 'dep_perc', 'tes', 'la_tes', \n",
    "'pctmineth', 'pct_child', 'pct_senior', 'la_code', 'co_code', 'peat', 'geometry']"
   ]
  },
  {
   "cell_type": "code",
   "execution_count": 4,
   "metadata": {},
   "outputs": [],
   "source": [
    "cols= ['bge_code', 'bge_type', 'la_name', 'reg_name', 'hlthnorm', 'treecanopy', 'incnorm', 'empnorm', 'apb_index', 'pct_senior', 'pctmineth', 'geometry']"
   ]
  },
  {
   "cell_type": "code",
   "execution_count": 5,
   "metadata": {},
   "outputs": [
    {
     "name": "stdout",
     "output_type": "stream",
     "text": [
      "Shapefile data frame is 27,979 x 12\n"
     ]
    }
   ],
   "source": [
    "# read in the shapefile\n",
    "tree_canopies_gpd = gpd.read_file('england_tes.shp', columns=cols)\n",
    "\n",
    "print(f\"Shapefile data frame is {tree_canopies_gpd.shape[0]:,} x {tree_canopies_gpd.shape[1]}\")"
   ]
  },
  {
   "cell_type": "code",
   "execution_count": 6,
   "metadata": {},
   "outputs": [
    {
     "name": "stdout",
     "output_type": "stream",
     "text": [
      "(4986, 12)\n",
      "   apb_index   bge_code bge_type   empnorm  hlthnorm   incnorm  \\\n",
      "0   0.882636  E01000001     LSOA  0.003112  0.022240  0.000396   \n",
      "1   0.882636  E01000002     LSOA  0.050427  0.095570  0.089695   \n",
      "2   0.870083  E01000003     LSOA  0.539933  0.464112  0.436091   \n",
      "3   0.890412  E01000005     LSOA  0.761287  0.454759  0.816219   \n",
      "4   0.640963  E01000006     LSOA  0.339323  0.342859  0.572662   \n",
      "\n",
      "                la_name  pct_senior  pctmineth reg_name  treecanopy  \\\n",
      "0        City of London    0.250169   0.206242   London    0.108141   \n",
      "1        City of London    0.200290   0.222222   London    0.041181   \n",
      "2        City of London    0.179234   0.261166   London    0.126761   \n",
      "3        City of London    0.093236   0.618529   London    0.042198   \n",
      "4  Barking and Dagenham    0.085452   0.678049   London    0.088654   \n",
      "\n",
      "                                            geometry  \n",
      "0  POLYGON ((-10582.361 6713754.192, -10580.94 67...  \n",
      "1  POLYGON ((-9805.39 6713828.13, -9809.844 67138...  \n",
      "2  POLYGON ((-10566.456 6714232.811, -10559.752 6...  \n",
      "3  POLYGON ((-8248.557 6712944.698, -8216.129 671...  \n",
      "4  POLYGON ((10336.269 6717113.278, 10365.008 671...  \n"
     ]
    }
   ],
   "source": [
    "# only retain London data\n",
    "tree_canopies_gpd = tree_canopies_gpd[tree_canopies_gpd['reg_name'] == 'London']\n",
    "print(tree_canopies_gpd.shape)\n",
    "print(tree_canopies_gpd.head())"
   ]
  },
  {
   "cell_type": "code",
   "execution_count": 7,
   "metadata": {},
   "outputs": [],
   "source": [
    "# drop irrelevant columns\n",
    "tree_canopies_gpd = tree_canopies_gpd.drop(columns=['bge_type', 'la_name', 'reg_name'])"
   ]
  },
  {
   "cell_type": "code",
   "execution_count": 8,
   "metadata": {},
   "outputs": [
    {
     "name": "stdout",
     "output_type": "stream",
     "text": [
      "Data frame 1 is 4,986 x 8\n"
     ]
    }
   ],
   "source": [
    "# generate a pandas data frame by dropping the geometry column\n",
    "tree_canopies = tree_canopies_gpd.drop(columns='geometry')\n",
    "print(f\"Data frame 1 is {tree_canopies.shape[0]:,} x {tree_canopies.shape[1]}\")"
   ]
  },
  {
   "cell_type": "code",
   "execution_count": 9,
   "metadata": {},
   "outputs": [
    {
     "name": "stdout",
     "output_type": "stream",
     "text": [
      "Data frame 2 is 4,651 x 2\n"
     ]
    }
   ],
   "source": [
    "SMHI = pd.read_csv('MHI_London_22.csv', encoding=\"utf-8\")\n",
    "print(f\"Data frame 2 is {SMHI.shape[0]:,} x {SMHI.shape[1]}\")"
   ]
  },
  {
   "cell_type": "code",
   "execution_count": 10,
   "metadata": {},
   "outputs": [
    {
     "name": "stdout",
     "output_type": "stream",
     "text": [
      "Data frame 3 is 4,994 x 2\n"
     ]
    }
   ],
   "source": [
    "BHRatio = pd.read_csv('Bad_health_ratio.csv', encoding=\"utf-8\")\n",
    "print(f\"Data frame 3 is {BHRatio.shape[0]:,} x {BHRatio.shape[1]}\")"
   ]
  },
  {
   "cell_type": "code",
   "execution_count": 11,
   "metadata": {},
   "outputs": [
    {
     "name": "stdout",
     "output_type": "stream",
     "text": [
      "Data frame 4 is 4,994 x 2\n"
     ]
    }
   ],
   "source": [
    "edu_level4 = pd.read_csv('edu_level4.csv', encoding=\"utf-8\")\n",
    "print(f\"Data frame 4 is {edu_level4.shape[0]:,} x {edu_level4.shape[1]}\")"
   ]
  },
  {
   "cell_type": "markdown",
   "metadata": {},
   "source": [
    "Do a data merge to add the additional variables."
   ]
  },
  {
   "cell_type": "code",
   "execution_count": 12,
   "metadata": {},
   "outputs": [
    {
     "name": "stdout",
     "output_type": "stream",
     "text": [
      "      apb_index   bge_code   empnorm  hlthnorm   incnorm  pct_senior  \\\n",
      "4981   0.759742  E01035718  0.000702  0.001660  0.000625    0.100624   \n",
      "4982   0.795291  E01035719  0.443228  0.069857  0.484766    0.108405   \n",
      "4983   0.795634  E01035720  0.443228  0.069857  0.484766    0.096248   \n",
      "4984   0.768645  E01035721  0.800412  0.480365  0.771722    0.138758   \n",
      "4985   0.787506  E01035722  0.050412  0.078357  0.207570    0.175421   \n",
      "\n",
      "      pctmineth  treecanopy   BHRatio  \n",
      "4981   0.383476    0.364934  0.015570  \n",
      "4982   0.380503    0.113101  0.035461  \n",
      "4983   0.349219    0.188865  0.051767  \n",
      "4984   0.443729    0.104089  0.062366  \n",
      "4985   0.348236    0.298477  0.041273  \n",
      "New Data frame is 4,986 x 9\n"
     ]
    }
   ],
   "source": [
    "# merging BHRatio with tree_canopies data frame using a left join\n",
    "reg_bh = tree_canopies.merge(BHRatio, left_on='bge_code', right_on='LSOA_code', how='left')\n",
    "reg_bh = reg_bh.drop(columns=['LSOA_code'])\n",
    "print(reg_bh.tail())\n",
    "print(f\"New Data frame is {reg_bh.shape[0]:,} x {reg_bh.shape[1]}\")"
   ]
  },
  {
   "cell_type": "code",
   "execution_count": 13,
   "metadata": {},
   "outputs": [
    {
     "name": "stdout",
     "output_type": "stream",
     "text": [
      "      apb_index   bge_code   empnorm  hlthnorm   incnorm  pct_senior  \\\n",
      "4981   0.759742  E01035718  0.000702  0.001660  0.000625    0.100624   \n",
      "4982   0.795291  E01035719  0.443228  0.069857  0.484766    0.108405   \n",
      "4983   0.795634  E01035720  0.443228  0.069857  0.484766    0.096248   \n",
      "4984   0.768645  E01035721  0.800412  0.480365  0.771722    0.138758   \n",
      "4985   0.787506  E01035722  0.050412  0.078357  0.207570    0.175421   \n",
      "\n",
      "      pctmineth  treecanopy   BHRatio   Edu_L4+  \n",
      "4981   0.383476    0.364934  0.015570  0.470486  \n",
      "4982   0.380503    0.113101  0.035461  0.662443  \n",
      "4983   0.349219    0.188865  0.051767  0.575729  \n",
      "4984   0.443729    0.104089  0.062366  0.545635  \n",
      "4985   0.348236    0.298477  0.041273  0.656716  \n",
      "New Data frame is 4,986 x 10\n"
     ]
    }
   ],
   "source": [
    "# merging Edu_level4 with reg_bh data frame using a left join\n",
    "reg_bh_edu = reg_bh.merge(edu_level4, left_on='bge_code', right_on='LSOA_code', how='left')\n",
    "reg_bh_edu = reg_bh_edu.drop(columns=['LSOA_code'])\n",
    "print(reg_bh_edu.tail())\n",
    "print(f\"New Data frame is {reg_bh_edu.shape[0]:,} x {reg_bh_edu.shape[1]}\")"
   ]
  },
  {
   "cell_type": "code",
   "execution_count": 14,
   "metadata": {},
   "outputs": [
    {
     "name": "stdout",
     "output_type": "stream",
     "text": [
      "      apb_index   bge_code   empnorm  hlthnorm   incnorm  pct_senior  \\\n",
      "4981   0.759742  E01035718  0.000702  0.001660  0.000625    0.100624   \n",
      "4982   0.795291  E01035719  0.443228  0.069857  0.484766    0.108405   \n",
      "4983   0.795634  E01035720  0.443228  0.069857  0.484766    0.096248   \n",
      "4984   0.768645  E01035721  0.800412  0.480365  0.771722    0.138758   \n",
      "4985   0.787506  E01035722  0.050412  0.078357  0.207570    0.175421   \n",
      "\n",
      "      pctmineth  treecanopy   BHRatio   Edu_L4+  MHI_2022  \n",
      "4981   0.383476    0.364934  0.015570  0.470486       NaN  \n",
      "4982   0.380503    0.113101  0.035461  0.662443       NaN  \n",
      "4983   0.349219    0.188865  0.051767  0.575729       NaN  \n",
      "4984   0.443729    0.104089  0.062366  0.545635       NaN  \n",
      "4985   0.348236    0.298477  0.041273  0.656716       NaN  \n",
      "New Data frame is 4,986 x 11\n"
     ]
    }
   ],
   "source": [
    "# merging MHI data with reg_bh_edu data frame using a left join\n",
    "final_df = reg_bh_edu.merge(SMHI, left_on='bge_code', right_on='lsoa11', how='left')\n",
    "final_df = final_df.drop(columns=['lsoa11'])\n",
    "print(final_df.tail())\n",
    "print(f\"New Data frame is {final_df.shape[0]:,} x {final_df.shape[1]}\")"
   ]
  },
  {
   "cell_type": "code",
   "execution_count": 15,
   "metadata": {},
   "outputs": [],
   "source": [
    "# export the final data frame to a csv file\n",
    "final_df.to_csv('regression_tree_health.csv', index=False)"
   ]
  }
 ],
 "metadata": {
  "kernelspec": {
   "display_name": "Python (base)",
   "language": "python",
   "name": "base"
  },
  "language_info": {
   "codemirror_mode": {
    "name": "ipython",
    "version": 3
   },
   "file_extension": ".py",
   "mimetype": "text/x-python",
   "name": "python",
   "nbconvert_exporter": "python",
   "pygments_lexer": "ipython3",
   "version": "3.11.9"
  }
 },
 "nbformat": 4,
 "nbformat_minor": 2
}
